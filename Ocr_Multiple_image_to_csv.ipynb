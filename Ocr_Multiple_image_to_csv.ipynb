{
 "cells": [
  {
   "cell_type": "code",
   "execution_count": 1,
   "metadata": {},
   "outputs": [
    {
     "name": "stdout",
     "output_type": "stream",
     "text": [
      "['C:/Users/npatil3/Python project/Basic_Programs/Images\\\\Four.png']\n",
      "['C:/Users/npatil3/Python project/Basic_Programs/Images\\\\Four.png', 'C:/Users/npatil3/Python project/Basic_Programs/Images\\\\One.png']\n",
      "['C:/Users/npatil3/Python project/Basic_Programs/Images\\\\Four.png', 'C:/Users/npatil3/Python project/Basic_Programs/Images\\\\One.png', 'C:/Users/npatil3/Python project/Basic_Programs/Images\\\\Three.png']\n",
      "['C:/Users/npatil3/Python project/Basic_Programs/Images\\\\Four.png', 'C:/Users/npatil3/Python project/Basic_Programs/Images\\\\One.png', 'C:/Users/npatil3/Python project/Basic_Programs/Images\\\\Three.png', 'C:/Users/npatil3/Python project/Basic_Programs/Images\\\\Two.png']\n",
      "C:/Users/npatil3/Python project/Basic_Programs/Images\\Four.png\n",
      "C:/Users/npatil3/Python project/Basic_Programs/Images\\One.png\n",
      "C:/Users/npatil3/Python project/Basic_Programs/Images\\Three.png\n",
      "C:/Users/npatil3/Python project/Basic_Programs/Images\\Two.png\n"
     ]
    }
   ],
   "source": [
    "from PIL import Image\n",
    "import pytesseract\n",
    "import cv2\n",
    "import pandas as pd\n",
    "from csv import writer\n",
    "import os\n",
    "\n",
    "# pytesseract.tesseract_cmd = path_to_tesseract\n",
    "pytesseract.pytesseract.tesseract_cmd = 'C:/Users/npatil3/AppData/Local/Programs/Tesseract-OCR/tesseract.exe'\n",
    "\n",
    "# Opening the image & storing it in an image object\n",
    "path = \"C:/Users/npatil3/Python project/Basic_Programs/Images\"\n",
    "\n",
    "\n",
    "fields = ['Path', 'Extracted data']\n",
    "\n",
    "filename = 'ouput.csv'\n",
    "filelist = []\n",
    "\n",
    "for root, dirs, files in os.walk(path):\n",
    "    for file in files:\n",
    "        #append the file name to the list\n",
    "        filelist.append(os.path.join(root,file))\n",
    "        print(filelist)\n",
    "        \n",
    "with open(filename, 'a', newline=\"\") as f_object:\n",
    "    writer_object = writer(f_object)\n",
    "    writer_object.writerow(fields)\n",
    "    for name in filelist:\n",
    "        if '.png' in name:\n",
    "            print(name)\n",
    "            img = cv2.imread(name)\n",
    "            exttext = pytesseract.image_to_string(img)\n",
    "            words = exttext.split()\n",
    "            appendFile = ''\n",
    "            #newtxt = name + \".txt\"\n",
    "            #test_file = open(newtxt, \"w\")\n",
    "            #test_file.write(exttext)\n",
    "            #test_file.close()\n",
    "            for r in exttext:\n",
    "                if r in exttext:\n",
    "                    appendFile = appendFile + ' ' +r\n",
    "            rows = [\n",
    "                name,\n",
    "                appendFile,\n",
    "            ]\n",
    "            writer_object.writerow(rows)\n",
    "#             df = pd.read_csv(filename)\n",
    "#             df.to_csv('output.csv', index=False)"
   ]
  },
  {
   "cell_type": "code",
   "execution_count": null,
   "metadata": {},
   "outputs": [],
   "source": []
  }
 ],
 "metadata": {
  "kernelspec": {
   "display_name": "Python 3",
   "language": "python",
   "name": "python3"
  },
  "language_info": {
   "codemirror_mode": {
    "name": "ipython",
    "version": 3
   },
   "file_extension": ".py",
   "mimetype": "text/x-python",
   "name": "python",
   "nbconvert_exporter": "python",
   "pygments_lexer": "ipython3",
   "version": "3.7.6"
  }
 },
 "nbformat": 4,
 "nbformat_minor": 4
}
